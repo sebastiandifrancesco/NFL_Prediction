{
 "cells": [
  {
   "cell_type": "code",
   "execution_count": 1,
   "metadata": {},
   "outputs": [],
   "source": [
    "import pandas as pd\n",
    "\n",
    "# Combine excel files into one DataFrame\n",
    "def read_clean():\n",
    "    years = list(range(2017,2018))\n",
    "    dfs = []\n",
    "    for year in years:\n",
    "        df = pd.read_csv('NFL_{}.csv'.format(year))\n",
    "        df = df.dropna(subset=['Week'])\n",
    "        post_season = ['WildCard','Division','ConfChamp','SuperBowl']\n",
    "        post_season_df = df[df['Week'].isin(post_season)]\n",
    "        df = pd.concat([df,post_season_df]).drop_duplicates(keep=False)\n",
    "        dfs.append(df)\n",
    "    read_clean.NFL_2000_2016 = pd.DataFrame()\n",
    "    for df in dfs:\n",
    "        read_clean.NFL_2000_2016 = pd.concat([read_clean.NFL_2000_2016,df])\n",
    "    read_clean.NFL_2000_2016 = read_clean.NFL_2000_2016.rename(columns={'Unnamed: 5':'Home/Away'}).reset_index(drop=True)\n",
    "#     print(read_clean.NFL_2000_2016)\n",
    "read_clean()"
   ]
  },
  {
   "cell_type": "markdown",
   "metadata": {},
   "source": [
    "# Feature Engineering"
   ]
  },
  {
   "cell_type": "code",
   "execution_count": 2,
   "metadata": {},
   "outputs": [],
   "source": [
    "# Feature Engineering: Which team was the home team and which team was the away team?\n",
    "def home_away():\n",
    "    def home_team (row):\n",
    "        if row['Home/Away'] != '@':\n",
    "            return row['Winner/tie']\n",
    "        else:\n",
    "            return row['Loser/tie']\n",
    "    def away_team (row):\n",
    "        if row['Home/Away'] != '@':\n",
    "            return row['Loser/tie']\n",
    "        else:\n",
    "            return row['Winner/tie']\n",
    "\n",
    "    read_clean.NFL_2000_2016['Home Team'] = read_clean.NFL_2000_2016.apply(lambda row: home_team(row), axis=1)\n",
    "    read_clean.NFL_2000_2016['Away Team'] = read_clean.NFL_2000_2016.apply(lambda row: away_team(row), axis=1)\n",
    "    # NFL_2000_2016['Away Team']\n",
    "#     print(read_clean.NFL_2000_2016)\n",
    "home_away()"
   ]
  },
  {
   "cell_type": "code",
   "execution_count": 3,
   "metadata": {},
   "outputs": [],
   "source": [
    "# Feature Engineering: HomePts vs VisitorPts\n",
    "def points():\n",
    "    def home_pts (row):\n",
    "        if row['Home/Away'] != '@':\n",
    "            return row['Pts']\n",
    "        else:\n",
    "            return row['Pts.1']\n",
    "    def away_pts (row):\n",
    "        if row['Home/Away'] != '@':\n",
    "            return row['Pts.1']\n",
    "        else:\n",
    "            return row['Pts']\n",
    "    read_clean.NFL_2000_2016['HomePts'] = read_clean.NFL_2000_2016.apply(lambda row: home_pts(row), axis=1)\n",
    "    read_clean.NFL_2000_2016['VisitorPts'] = read_clean.NFL_2000_2016.apply(lambda row: away_pts(row), axis=1)\n",
    "#     print(read_clean.NFL_2000_2016)\n",
    "points()"
   ]
  },
  {
   "cell_type": "markdown",
   "metadata": {},
   "source": [
    "# Baseline?\n",
    "\n",
    "In most sports the home teams win games more frequently. This will be a good baseline for the models."
   ]
  },
  {
   "cell_type": "code",
   "execution_count": 4,
   "metadata": {},
   "outputs": [],
   "source": [
    "# Create target class\n",
    "def target_class():\n",
    "    read_clean.NFL_2000_2016['HomeWin'] = read_clean.NFL_2000_2016['VisitorPts'] < read_clean.NFL_2000_2016['HomePts']\n",
    "    # Class Values\n",
    "    target_class.y_true = read_clean.NFL_2000_2016['HomeWin'].values\n",
    "#     print(read_clean.NFL_2000_2016)\n",
    "target_class()"
   ]
  },
  {
   "cell_type": "code",
   "execution_count": 5,
   "metadata": {},
   "outputs": [],
   "source": [
    "# n_games = NFL_2000_2016['HomeWin'].count()\n",
    "# n_homewins = NFL_2000_2016['HomeWin'].sum()\n",
    "# win_percentage = n_homewins/n_games *100\n",
    "# print(f\"Home Win Percentage: {win_percentage}%\")"
   ]
  },
  {
   "cell_type": "code",
   "execution_count": 6,
   "metadata": {},
   "outputs": [],
   "source": [
    "# # Convert to an f1 measure; simple classifier that predicts home team wins more frequently\n",
    "# # This will be score we need to beat with model\n",
    "# from sklearn.metrics import f1_score\n",
    "# y_pred = [1] * len(y_true)\n",
    "# print(\"F1: {:.4f}\".format(f1_score(y_true, y_pred, pos_label=None, average='weighted')))"
   ]
  },
  {
   "cell_type": "markdown",
   "metadata": {},
   "source": [
    "# More Feature Engineering"
   ]
  },
  {
   "cell_type": "code",
   "execution_count": 7,
   "metadata": {},
   "outputs": [],
   "source": [
    "# Feature Engineering: Did teams win their previous game?\n",
    "def prev_win():\n",
    "    read_clean.NFL_2000_2016['HomeLastWin'] = False\n",
    "    read_clean.NFL_2000_2016['VisitorLastWin'] = False\n",
    "\n",
    "    from collections import defaultdict\n",
    "    won_last = defaultdict(int)\n",
    "\n",
    "    for index, row in read_clean.NFL_2000_2016.iterrows():\n",
    "        home_team = row['Home Team']\n",
    "        visitor_team = row['Away Team']\n",
    "        row[\"HomeLastWin\"] = won_last[home_team]\n",
    "        row[\"VisitorLastWin\"] = won_last[visitor_team]\n",
    "        read_clean.NFL_2000_2016.iloc[index] = row\n",
    "        # Set current win\n",
    "        won_last[home_team] = row[\"HomeWin\"]\n",
    "        won_last[visitor_team] = not row['HomeWin']\n",
    "#     print(read_clean.NFL_2000_2016)\n",
    "prev_win()"
   ]
  },
  {
   "cell_type": "markdown",
   "metadata": {},
   "source": [
    "# Basic Classification with a Decision Tree"
   ]
  },
  {
   "cell_type": "code",
   "execution_count": 8,
   "metadata": {},
   "outputs": [],
   "source": [
    "# from sklearn.tree import DecisionTreeClassifier\n",
    "# clf = DecisionTreeClassifier(random_state=14)\n",
    "# y_true"
   ]
  },
  {
   "cell_type": "code",
   "execution_count": 9,
   "metadata": {},
   "outputs": [],
   "source": [
    "# from sklearn.model_selection import cross_val_score\n",
    "# import numpy as np\n",
    "\n",
    "# # f1 is loosely correlated to the accuracy but is less likely to bias by certain factors\n",
    "# from sklearn.metrics import f1_score, make_scorer, classification_report\n",
    "# scorer = make_scorer(f1_score, pos_label=None, average='weighted')\n",
    "\n",
    "# # Create a dataset with the necessary info\n",
    "# X_previouswins = NFL_2000_2016[[\"HomeLastWin\",\"VisitorLastWin\"]].values\n",
    "# clf = DecisionTreeClassifier(random_state=14)\n",
    "# # X_previouswin to decide if target value (y_true; aka was it a Homewin)\n",
    "# scores = cross_val_score(clf, X_previouswins, y_true, scoring = scorer)\n",
    "# print(\"Using just the result of whether or not the home team or visitor team won their last games we get an F1 score of:\")\n",
    "# print(\"F1: {0:.4f}\".format(np.mean(scores)))"
   ]
  },
  {
   "cell_type": "markdown",
   "metadata": {},
   "source": [
    "# More Feature Engineering"
   ]
  },
  {
   "cell_type": "code",
   "execution_count": 10,
   "metadata": {},
   "outputs": [
    {
     "name": "stdout",
     "output_type": "stream",
     "text": [
      "    Week  Day        Date    Time            Winner/tie Home/Away  \\\n",
      "0      1  Thu    9/7/2017  8:30PM    Kansas City Chiefs         @   \n",
      "1      1  Sun   9/10/2017  1:00PM       Atlanta Falcons         @   \n",
      "2      1  Sun   9/10/2017  1:00PM         Buffalo Bills       NaN   \n",
      "3      1  Sun   9/10/2017  1:00PM       Oakland Raiders         @   \n",
      "4      1  Sun   9/10/2017  1:00PM   Philadelphia Eagles         @   \n",
      "..   ...  ...         ...     ...                   ...       ...   \n",
      "251   17  Sun  12/31/2017  4:25PM  Los Angeles Chargers       NaN   \n",
      "252   17  Sun  12/31/2017  4:25PM      Tennessee Titans       NaN   \n",
      "253   17  Sun  12/31/2017  4:25PM       Atlanta Falcons       NaN   \n",
      "254   17  Sun  12/31/2017  4:25PM   San Francisco 49ers         @   \n",
      "255   17  Sun  12/31/2017  4:25PM    Cincinnati Bengals         @   \n",
      "\n",
      "                Loser/tie Unnamed: 7   Pts  Pts.1  ...  TOL  \\\n",
      "0    New England Patriots   boxscore  42.0   27.0  ...  0.0   \n",
      "1           Chicago Bears   boxscore  23.0   17.0  ...  0.0   \n",
      "2           New York Jets   boxscore  21.0   12.0  ...  2.0   \n",
      "3        Tennessee Titans   boxscore  26.0   16.0  ...  0.0   \n",
      "4     Washington Redskins   boxscore  30.0   17.0  ...  4.0   \n",
      "..                    ...        ...   ...    ...  ...  ...   \n",
      "251       Oakland Raiders   boxscore  30.0   10.0  ...  2.0   \n",
      "252  Jacksonville Jaguars   boxscore  15.0   10.0  ...  4.0   \n",
      "253     Carolina Panthers   boxscore  22.0   10.0  ...  3.0   \n",
      "254      Los Angeles Rams   boxscore  34.0   13.0  ...  2.0   \n",
      "255      Baltimore Ravens   boxscore  31.0   27.0  ...  1.0   \n",
      "\n",
      "                Home Team             Away Team  HomePts VisitorPts HomeWin  \\\n",
      "0    New England Patriots    Kansas City Chiefs     27.0       42.0   False   \n",
      "1           Chicago Bears       Atlanta Falcons     17.0       23.0   False   \n",
      "2           Buffalo Bills         New York Jets     21.0       12.0    True   \n",
      "3        Tennessee Titans       Oakland Raiders     16.0       26.0   False   \n",
      "4     Washington Redskins   Philadelphia Eagles     17.0       30.0   False   \n",
      "..                    ...                   ...      ...        ...     ...   \n",
      "251  Los Angeles Chargers       Oakland Raiders     30.0       10.0    True   \n",
      "252      Tennessee Titans  Jacksonville Jaguars     15.0       10.0    True   \n",
      "253       Atlanta Falcons     Carolina Panthers     22.0       10.0    True   \n",
      "254      Los Angeles Rams   San Francisco 49ers     13.0       34.0   False   \n",
      "255      Baltimore Ravens    Cincinnati Bengals     27.0       31.0   False   \n",
      "\n",
      "     HomeLastWin  VisitorLastWin  HomeWinStreak VisitorWinStreak  \n",
      "0              0               0              0                0  \n",
      "1              0               0              0                0  \n",
      "2              0               0              0                0  \n",
      "3              0               0              0                0  \n",
      "4              0               0              0                0  \n",
      "..           ...             ...            ...              ...  \n",
      "251         True           False              1                0  \n",
      "252        False           False              0                0  \n",
      "253        False            True              0                3  \n",
      "254         True            True              2                4  \n",
      "255         True            True              2                1  \n",
      "\n",
      "[256 rows x 23 columns]\n"
     ]
    }
   ],
   "source": [
    "# Feature Engineering: Win streaks.\n",
    "def win_streaks():\n",
    "    read_clean.NFL_2000_2016[\"HomeWinStreak\"]=0\n",
    "    read_clean.NFL_2000_2016[\"VisitorWinStreak\"]=0\n",
    "    from collections import defaultdict\n",
    "    win_streak = defaultdict(int)\n",
    "\n",
    "    for index, row in read_clean.NFL_2000_2016.iterrows():\n",
    "        home_team = row[\"Home Team\"]\n",
    "        visitor_team = row[\"Away Team\"]\n",
    "        row[\"HomeWinStreak\"] = win_streak[home_team]\n",
    "        row[\"VisitorWinStreak\"] = win_streak[visitor_team]\n",
    "        read_clean.NFL_2000_2016.iloc[index] = row\n",
    "        # Set current win\n",
    "        if row[\"HomeWin\"]:\n",
    "            win_streak[home_team] +=1\n",
    "            win_streak[visitor_team] = 0\n",
    "        else:\n",
    "            win_streak[home_team] = 0\n",
    "            win_streak[visitor_team] += 1\n",
    "    print(read_clean.NFL_2000_2016)\n",
    "win_streaks()"
   ]
  },
  {
   "cell_type": "code",
   "execution_count": 11,
   "metadata": {},
   "outputs": [],
   "source": [
    "# Feature Engineering: Did the home team win the last game between the two teams?\n",
    "def home_team_win_last():\n",
    "    import collections\n",
    "    last_match_winner = collections.defaultdict(int)\n",
    "    \n",
    "    def home_team_won_last(row):\n",
    "        home_team = row[\"Home Team\"]\n",
    "        visitor_team = row[\"Away Team\"]\n",
    "\n",
    "        # Sort for consistent ordering\n",
    "        teams = tuple(sorted([home_team,visitor_team]))\n",
    "        result = 1 if last_match_winner[teams] == row[\"Home Team\"] else 0\n",
    "        # Update record for next encounter\n",
    "        winner = row[\"Home Team\"] if row[\"HomeWin\"] else row[\"Away Team\"]\n",
    "\n",
    "        last_match_winner[teams] = winner\n",
    "\n",
    "        return result\n",
    "    read_clean.NFL_2000_2016[\"HomeTeamWonLast\"] = read_clean.NFL_2000_2016.apply(home_team_won_last, axis=1)\n",
    "#     print(read_clean.NFL_2000_2016)\n",
    "home_team_win_last()"
   ]
  },
  {
   "cell_type": "code",
   "execution_count": 12,
   "metadata": {},
   "outputs": [],
   "source": [
    "# OneHotEncoding\n",
    "def OHE():\n",
    "    OHE.NFL_model = read_clean.NFL_2000_2016[[\"Home Team\",\"Away Team\",\"HomeLastWin\",\"VisitorLastWin\",\"HomeWinStreak\",\"VisitorWinStreak\",\"HomeTeamWonLast\"]]\n",
    "    OHE.NFL_model = pd.get_dummies(OHE.NFL_model)\n",
    "#     for i in OHE.NFL_model.columns:\n",
    "#         print(i)\n",
    "OHE()"
   ]
  },
  {
   "cell_type": "markdown",
   "metadata": {},
   "source": [
    "# Select features we want to feed into the models"
   ]
  },
  {
   "cell_type": "code",
   "execution_count": 15,
   "metadata": {},
   "outputs": [],
   "source": [
    "def create_X_all():\n",
    "    import numpy as np\n",
    "    create_X_all.X_all = np.hstack([OHE.NFL_model])\n",
    "create_X_all()"
   ]
  },
  {
   "cell_type": "code",
   "execution_count": null,
   "metadata": {},
   "outputs": [],
   "source": [
    "# def test_models():\n",
    "#     import pandas as pd\n",
    "#     from sklearn.linear_model import LogisticRegression\n",
    "#     from sklearn import tree\n",
    "#     from sklearn.naive_bayes import GaussianNB\n",
    "#     from sklearn.neighbors import KNeighborsClassifier\n",
    "#     from sklearn.ensemble import RandomForestClassifier\n",
    "#     from xgboost import XGBClassifier\n",
    "#     from sklearn.datasets import make_classification\n",
    "#     from sklearn.model_selection import train_test_split\n",
    "#     from sklearn.metrics import accuracy_score\n",
    "#     import numpy as np\n",
    "\n",
    "#     # features = NFL_2000_2016[[\"HomeLastWin\",\"VisitorLastWin\",\"HomeWinStreak\",\"VisitorWinStreak\",\"HomeTeamWonLast\"]]\n",
    "#     test_models.X_all = np.hstack([OHE.NFL_model])\n",
    "\n",
    "#     class Classifiers():\n",
    "#         def __init__(self, x_train, x_test, y_train):\n",
    "#             self.x_train = x_train\n",
    "#             self.y_train = y_train\n",
    "#             self.x_test = x_test\n",
    "#         def logistic_regression(self):\n",
    "#             model = LogisticRegression()\n",
    "#             model.fit(self.x_train, self.y_train)\n",
    "#             predicted = model.predict(self.x_test)\n",
    "#             return predicted\n",
    "#         def decision_tree(self):\n",
    "#             model = tree.DecisionTreeClassifier(criterion='gini')\n",
    "#             model.fit(self.x_train, self.y_train)\n",
    "#             predicted = model.predict(self.x_test)\n",
    "#             return predicted\n",
    "#         def naive_bayes(self):\n",
    "#             model = GaussianNB()\n",
    "#             model.fit(self.x_train, self.y_train)\n",
    "#             predicted = model.predict(self.x_test)\n",
    "#             return predicted\n",
    "#         def knn(self):\n",
    "#             model = KNeighborsClassifier(n_neighbors=6)\n",
    "#             model.fit(self.x_train, self.y_train)\n",
    "#             predicted= model.predict(self.x_test)\n",
    "#             return predicted\n",
    "#         def random_forest(self):\n",
    "#             model= RandomForestClassifier()\n",
    "#             model.fit(self.x_train, self.y_train)\n",
    "#             predicted = model.predict(self.x_test)\n",
    "#             return predicted\n",
    "#         def xgboost(self):\n",
    "#             model = XGBClassifier()\n",
    "#             model.fit(self.x_train, self.y_train)\n",
    "#             predicted = model.predict(self.x_test)\n",
    "#             return predicted\n",
    "#     # def test():\n",
    "#     #     X, y = make_classification(n_samples=1000, n_features=2, n_redundant=0, n_informative=2, random_state=1, n_clusters_per_class=1)\n",
    "#     #     X_train, X_test, y_train, y_test = train_test_split(X, y, test_size=0.33, random_state=42)\n",
    "#     #     data_to_classify = Classifiers(X_train, X_test, y_train)\n",
    "#     #     d = {'original_result': y_test, 'predicted_result': data_to_classify.random_forest()}\n",
    "#     #     df = pd.DataFrame(data=d)\n",
    "#     #     df[\"correct_prediction\"] = (df.original_result == df.predicted_result)\n",
    "#     #     print(df, f\"Accuracy Score: \\n{df.correct_prediction.value_counts(normalize=True)}\")\n",
    "#     # test()\n",
    "\n",
    "#     def compare_Classifiers_accuracy(X_train, X_test, y_train, y_test):\n",
    "#         outcome_accuracy = {\n",
    "#             \"logistic_regression\": accuracy_score(y_test, Classifiers(X_train, X_test, y_train).logistic_regression()),\n",
    "#             \"decision_tree\": accuracy_score(y_test, Classifiers(X_train, X_test, y_train).decision_tree()),\n",
    "#             \"naive_bayes\": accuracy_score(y_test, Classifiers(X_train, X_test, y_train).naive_bayes()),\n",
    "#             \"knn\": accuracy_score(y_test, Classifiers(X_train, X_test, y_train).knn()),\n",
    "#             \"random_forest\": accuracy_score(y_test, Classifiers(X_train, X_test, y_train).random_forest()),\n",
    "#             \"xgboost\": accuracy_score(y_test, Classifiers(X_train, X_test, y_train).xgboost()),\n",
    "#         }\n",
    "#         return outcome_accuracy\n",
    "#     def main():\n",
    "#         seed = 1\n",
    "#     #     X_all, y_true = make_classification(n_samples=10000, n_features=2, n_redundant=0, n_informative=2, random_state=1, n_clusters_per_class=1)\n",
    "#         X_train, X_test, y_train, y_test = train_test_split(create_X_all.X_all, target_class.y_true, test_size=0.33, random_state=seed)\n",
    "#         # Validation\n",
    "#         # X_validation_train, X_validation, y_validation_train, y_validation = train_test_split(X_train, y_train, test_size=0.33, random_state=seed) \n",
    "#         print(compare_Classifiers_accuracy(X_train, X_test, y_train, y_test))\n",
    "#         # print(compare_Classifiers_accuracy(X_validation_train,X_validation))\n",
    "#     main()\n",
    "# test_models()"
   ]
  },
  {
   "cell_type": "code",
   "execution_count": 16,
   "metadata": {},
   "outputs": [],
   "source": [
    "# Building Chosen Model: Random Forest\n",
    "def build_RF():\n",
    "    from sklearn.model_selection import train_test_split\n",
    "    from sklearn.ensemble import RandomForestClassifier\n",
    "    seed = 1\n",
    "    X_train, X_test, y_train, y_test = train_test_split(create_X_all.X_all, target_class.y_true, test_size=0.33, random_state=seed)\n",
    "\n",
    "    model= RandomForestClassifier()\n",
    "    model.fit(X_train, y_train)\n",
    "    # predicted = model.predict(X_test)\n",
    "    # print(X_all)\n",
    "build_RF()"
   ]
  },
  {
   "cell_type": "code",
   "execution_count": 17,
   "metadata": {},
   "outputs": [],
   "source": [
    "# Create user input from front end\n",
    "HT = ['New England Patriots']\n",
    "AT = ['Kansas City Chiefs']\n",
    "HLW = [0]\n",
    "VLW = [0]\n",
    "HWS = [0]\n",
    "VWS = [0]\n",
    "HTWL = [0]\n",
    "def user_input(HT, AT, HLW, VLW, HWS, VWS, HTWL):\n",
    "    user_input.NFL_model_ui = read_clean.NFL_2000_2016[[\"Home Team\",\"Away Team\",\"HomeLastWin\",\"VisitorLastWin\",\"HomeWinStreak\",\"VisitorWinStreak\",\"HomeTeamWonLast\"]]\n",
    "    user_input.user_input = pd.DataFrame({'Home Team':HT,'Away Team':AT,'HomeLastWin':HLW,'VisitorLastWin':VLW,'HomeWinStreak':HWS,'VisitorWinStreak':VWS,'HomeTeamWonLast':HTWL})\n",
    "    user_input.NFL_model_ui = pd.concat([user_input.NFL_model_ui,user_input.user_input], axis = 0)\n",
    "    user_input.NFL_model_ui = pd.get_dummies(user_input.NFL_model_ui)\n",
    "    user_input.NFL_model_ui = pd.DataFrame(user_input.NFL_model_ui.iloc[-1]).T\n",
    "user_input(HT, AT, HLW, VLW, HWS, VWS, HTWL)"
   ]
  },
  {
   "cell_type": "code",
   "execution_count": 18,
   "metadata": {},
   "outputs": [
    {
     "name": "stdout",
     "output_type": "stream",
     "text": [
      "['Kansas City Chiefs'] will win.\n"
     ]
    }
   ],
   "source": [
    "# Test Prediction\n",
    "def predict():\n",
    "    from sklearn.model_selection import train_test_split\n",
    "    from sklearn.ensemble import RandomForestClassifier\n",
    "    seed = 1\n",
    "    X_train, X_test, y_train, y_test = train_test_split(create_X_all.X_all, target_class.y_true, test_size=0.33, random_state=seed)\n",
    "\n",
    "    model= RandomForestClassifier()\n",
    "    model.fit(X_train, y_train)\n",
    "    predicted = model.predict(user_input.NFL_model_ui)\n",
    "    if predicted == [False]:\n",
    "        print(f'{AT} will win.')\n",
    "    else:\n",
    "        print(f'{HT} will win.')\n",
    "predict()"
   ]
  },
  {
   "cell_type": "code",
   "execution_count": null,
   "metadata": {},
   "outputs": [],
   "source": []
  }
 ],
 "metadata": {
  "kernelspec": {
   "display_name": "Python 3",
   "language": "python",
   "name": "python3"
  },
  "language_info": {
   "codemirror_mode": {
    "name": "ipython",
    "version": 3
   },
   "file_extension": ".py",
   "mimetype": "text/x-python",
   "name": "python",
   "nbconvert_exporter": "python",
   "pygments_lexer": "ipython3",
   "version": "3.7.6"
  }
 },
 "nbformat": 4,
 "nbformat_minor": 4
}
